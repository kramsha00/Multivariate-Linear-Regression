{
 "cells": [
  {
   "cell_type": "code",
   "execution_count": 1,
   "metadata": {},
   "outputs": [],
   "source": [
    "#ITCS494 Machine Learning\n",
    "#First semester 2020/2021\n",
    "#Lab 2 \n",
    "#Multivariate Linear Regression and Gradient Descent with stopping condition\n",
    "\n",
    "#ID:20168013\n",
    "#Name: RAMSHA KHALID MUHAMMAD KHALID\n",
    "\n",
    "#Problem\n",
    "\n",
    "#Look at the following starter Google Colab notebook. Make your own notebook in Colab or in Jupyter Notebook on your machine and solve the following problem.\n",
    "\n",
    "#(a) Read the student data and use all features and implement linear regression with multiple variables to predict the final grade. You should implement the linear regression algorithm from scratch (do not use the one available in Python libraries such as SciKit Learn). You can modify your code from the previous lab to implement the cost function, the recursive descent functions, etc.\n",
    "\n",
    "#(b) Then after running the recursive descent algorithm for finding the values of theta0 and theta1, draw a graph showing a scatter plot of the data with the resulting line. You can draw this for several steps to see how recursive descent gradually finds the minimum error/cost.\n",
    "\n",
    "#(c) Think about using feature scaling and mean normalization, and see if it makes your convergence faster.\n",
    "\n",
    "#Save the file and upload it in the assignment as a Jupyter Notebook. Your assignment submission should show me what you did in points (a), (b), and (c) in the same Notebook."
   ]
  },
  {
   "cell_type": "code",
   "execution_count": 2,
   "metadata": {},
   "outputs": [],
   "source": [
    "#Imports\n",
    "import matplotlib.pyplot as plt\n",
    "import numpy as np\n",
    "import pandas as pd"
   ]
  },
  {
   "cell_type": "code",
   "execution_count": 3,
   "metadata": {},
   "outputs": [],
   "source": [
    "#Load dataset\n",
    "data = pd.read_csv('original-data.csv')"
   ]
  },
  {
   "cell_type": "code",
   "execution_count": 4,
   "metadata": {},
   "outputs": [],
   "source": [
    "#Remove rows with any empty or zero values\n",
    "data.replace('', np.nan, inplace=True)\n",
    "data.replace(0, np.nan, inplace=True)\n",
    "\n",
    "data.dropna(how='any', inplace=True)"
   ]
  },
  {
   "cell_type": "code",
   "execution_count": 5,
   "metadata": {},
   "outputs": [],
   "source": [
    "#Change text to numbers\n",
    "data[\"Gender\"].replace({\"f\": 1 , \"m\": 0}, inplace=True)"
   ]
  },
  {
   "cell_type": "code",
   "execution_count": 6,
   "metadata": {},
   "outputs": [],
   "source": [
    "#Make copies of dataframe for x and y\n",
    "x=data.copy(deep=True)\n",
    "y=data.copy(deep=True)"
   ]
  },
  {
   "cell_type": "code",
   "execution_count": 7,
   "metadata": {},
   "outputs": [
    {
     "data": {
      "text/html": [
       "<div>\n",
       "<style scoped>\n",
       "    .dataframe tbody tr th:only-of-type {\n",
       "        vertical-align: middle;\n",
       "    }\n",
       "\n",
       "    .dataframe tbody tr th {\n",
       "        vertical-align: top;\n",
       "    }\n",
       "\n",
       "    .dataframe thead th {\n",
       "        text-align: right;\n",
       "    }\n",
       "</style>\n",
       "<table border=\"1\" class=\"dataframe\">\n",
       "  <thead>\n",
       "    <tr style=\"text-align: right;\">\n",
       "      <th></th>\n",
       "      <th>Final</th>\n",
       "    </tr>\n",
       "  </thead>\n",
       "  <tbody>\n",
       "    <tr>\n",
       "      <th>0</th>\n",
       "      <td>55.0</td>\n",
       "    </tr>\n",
       "    <tr>\n",
       "      <th>1</th>\n",
       "      <td>45.5</td>\n",
       "    </tr>\n",
       "    <tr>\n",
       "      <th>2</th>\n",
       "      <td>37.0</td>\n",
       "    </tr>\n",
       "    <tr>\n",
       "      <th>3</th>\n",
       "      <td>27.5</td>\n",
       "    </tr>\n",
       "    <tr>\n",
       "      <th>4</th>\n",
       "      <td>40.0</td>\n",
       "    </tr>\n",
       "    <tr>\n",
       "      <th>...</th>\n",
       "      <td>...</td>\n",
       "    </tr>\n",
       "    <tr>\n",
       "      <th>75</th>\n",
       "      <td>58.5</td>\n",
       "    </tr>\n",
       "    <tr>\n",
       "      <th>76</th>\n",
       "      <td>61.5</td>\n",
       "    </tr>\n",
       "    <tr>\n",
       "      <th>77</th>\n",
       "      <td>52.5</td>\n",
       "    </tr>\n",
       "    <tr>\n",
       "      <th>78</th>\n",
       "      <td>54.0</td>\n",
       "    </tr>\n",
       "    <tr>\n",
       "      <th>79</th>\n",
       "      <td>62.5</td>\n",
       "    </tr>\n",
       "  </tbody>\n",
       "</table>\n",
       "<p>72 rows × 1 columns</p>\n",
       "</div>"
      ],
      "text/plain": [
       "    Final\n",
       "0    55.0\n",
       "1    45.5\n",
       "2    37.0\n",
       "3    27.5\n",
       "4    40.0\n",
       "..    ...\n",
       "75   58.5\n",
       "76   61.5\n",
       "77   52.5\n",
       "78   54.0\n",
       "79   62.5\n",
       "\n",
       "[72 rows x 1 columns]"
      ]
     },
     "execution_count": 7,
     "metadata": {},
     "output_type": "execute_result"
    }
   ],
   "source": [
    "#Drop extra columns\n",
    "x.drop(['ID','Final'], inplace=True, axis=1)\n",
    "X=x.copy(deep=True)\n",
    "y.drop(['ID','Gender','Quizes','Midterm2','Midterm1'], inplace=True, axis=1)\n",
    "y"
   ]
  },
  {
   "cell_type": "code",
   "execution_count": 8,
   "metadata": {},
   "outputs": [],
   "source": [
    "#Feature scaling with mean normalizattion of data\n",
    "x = x.apply(lambda x: (x-x.mean())/x.max())"
   ]
  },
  {
   "cell_type": "code",
   "execution_count": 9,
   "metadata": {},
   "outputs": [
    {
     "data": {
      "text/html": [
       "<div>\n",
       "<style scoped>\n",
       "    .dataframe tbody tr th:only-of-type {\n",
       "        vertical-align: middle;\n",
       "    }\n",
       "\n",
       "    .dataframe tbody tr th {\n",
       "        vertical-align: top;\n",
       "    }\n",
       "\n",
       "    .dataframe thead th {\n",
       "        text-align: right;\n",
       "    }\n",
       "</style>\n",
       "<table border=\"1\" class=\"dataframe\">\n",
       "  <thead>\n",
       "    <tr style=\"text-align: right;\">\n",
       "      <th></th>\n",
       "      <th>X0</th>\n",
       "      <th>Gender</th>\n",
       "      <th>Midterm1</th>\n",
       "      <th>Midterm2</th>\n",
       "      <th>Quizes</th>\n",
       "    </tr>\n",
       "  </thead>\n",
       "  <tbody>\n",
       "    <tr>\n",
       "      <th>0</th>\n",
       "      <td>1</td>\n",
       "      <td>-0.458333</td>\n",
       "      <td>0.141953</td>\n",
       "      <td>0.131313</td>\n",
       "      <td>-0.033472</td>\n",
       "    </tr>\n",
       "    <tr>\n",
       "      <th>1</th>\n",
       "      <td>1</td>\n",
       "      <td>0.541667</td>\n",
       "      <td>-0.225694</td>\n",
       "      <td>-0.111111</td>\n",
       "      <td>-0.183472</td>\n",
       "    </tr>\n",
       "    <tr>\n",
       "      <th>2</th>\n",
       "      <td>1</td>\n",
       "      <td>-0.458333</td>\n",
       "      <td>-0.108047</td>\n",
       "      <td>-0.005051</td>\n",
       "      <td>-0.023472</td>\n",
       "    </tr>\n",
       "    <tr>\n",
       "      <th>3</th>\n",
       "      <td>1</td>\n",
       "      <td>-0.458333</td>\n",
       "      <td>-0.093342</td>\n",
       "      <td>0.101010</td>\n",
       "      <td>-0.213472</td>\n",
       "    </tr>\n",
       "    <tr>\n",
       "      <th>4</th>\n",
       "      <td>1</td>\n",
       "      <td>0.541667</td>\n",
       "      <td>0.039011</td>\n",
       "      <td>-0.186869</td>\n",
       "      <td>-0.073472</td>\n",
       "    </tr>\n",
       "    <tr>\n",
       "      <th>...</th>\n",
       "      <td>...</td>\n",
       "      <td>...</td>\n",
       "      <td>...</td>\n",
       "      <td>...</td>\n",
       "      <td>...</td>\n",
       "    </tr>\n",
       "    <tr>\n",
       "      <th>75</th>\n",
       "      <td>1</td>\n",
       "      <td>0.541667</td>\n",
       "      <td>0.112541</td>\n",
       "      <td>0.055556</td>\n",
       "      <td>0.146528</td>\n",
       "    </tr>\n",
       "    <tr>\n",
       "      <th>76</th>\n",
       "      <td>1</td>\n",
       "      <td>0.541667</td>\n",
       "      <td>0.156658</td>\n",
       "      <td>0.116162</td>\n",
       "      <td>0.126528</td>\n",
       "    </tr>\n",
       "    <tr>\n",
       "      <th>77</th>\n",
       "      <td>1</td>\n",
       "      <td>-0.458333</td>\n",
       "      <td>0.171364</td>\n",
       "      <td>0.222222</td>\n",
       "      <td>0.146528</td>\n",
       "    </tr>\n",
       "    <tr>\n",
       "      <th>78</th>\n",
       "      <td>1</td>\n",
       "      <td>-0.458333</td>\n",
       "      <td>0.289011</td>\n",
       "      <td>0.191919</td>\n",
       "      <td>0.106528</td>\n",
       "    </tr>\n",
       "    <tr>\n",
       "      <th>79</th>\n",
       "      <td>1</td>\n",
       "      <td>0.541667</td>\n",
       "      <td>0.289011</td>\n",
       "      <td>0.116162</td>\n",
       "      <td>0.146528</td>\n",
       "    </tr>\n",
       "  </tbody>\n",
       "</table>\n",
       "<p>72 rows × 5 columns</p>\n",
       "</div>"
      ],
      "text/plain": [
       "    X0    Gender  Midterm1  Midterm2    Quizes\n",
       "0    1 -0.458333  0.141953  0.131313 -0.033472\n",
       "1    1  0.541667 -0.225694 -0.111111 -0.183472\n",
       "2    1 -0.458333 -0.108047 -0.005051 -0.023472\n",
       "3    1 -0.458333 -0.093342  0.101010 -0.213472\n",
       "4    1  0.541667  0.039011 -0.186869 -0.073472\n",
       "..  ..       ...       ...       ...       ...\n",
       "75   1  0.541667  0.112541  0.055556  0.146528\n",
       "76   1  0.541667  0.156658  0.116162  0.126528\n",
       "77   1 -0.458333  0.171364  0.222222  0.146528\n",
       "78   1 -0.458333  0.289011  0.191919  0.106528\n",
       "79   1  0.541667  0.289011  0.116162  0.146528\n",
       "\n",
       "[72 rows x 5 columns]"
      ]
     },
     "execution_count": 9,
     "metadata": {},
     "output_type": "execute_result"
    }
   ],
   "source": [
    "#Add values of X0 in row 0 for theta0\n",
    "x = pd.concat([pd.Series(1, index=x.index, name='X0'), x], axis=1)\n",
    "x"
   ]
  },
  {
   "cell_type": "code",
   "execution_count": 16,
   "metadata": {},
   "outputs": [
    {
     "data": {
      "text/plain": [
       "array([0, 0, 0, 0, 0])"
      ]
     },
     "execution_count": 16,
     "metadata": {},
     "output_type": "execute_result"
    }
   ],
   "source": [
    "#save number of datasets to m and number of features to n\n",
    "m = len(x)\n",
    "n = len(x.columns)\n",
    "\n",
    "#Initialize values of iterations and learning rate\n",
    "iterations = 150\n",
    "alpha = 0.035\n",
    "\n",
    "#Initialize theta with 0s\n",
    "theta = np.array([0]*len(x.columns))\n",
    "theta"
   ]
  },
  {
   "cell_type": "code",
   "execution_count": 11,
   "metadata": {},
   "outputs": [],
   "source": [
    "#Define hypothesis function\n",
    "def hyp(X, theta):\n",
    "    return np.transpose(theta)@X"
   ]
  },
  {
   "cell_type": "code",
   "execution_count": 12,
   "metadata": {},
   "outputs": [],
   "source": [
    "#Define const function to compute error cost\n",
    "def cost(theta):\n",
    "    sum = 0\n",
    "    for i in range(m):\n",
    "        sum = sum + (hyp(x.iloc[i], theta)-y.iloc[i])**2\n",
    "    return sum/(2*m)"
   ]
  },
  {
   "cell_type": "code",
   "execution_count": 13,
   "metadata": {},
   "outputs": [],
   "source": [
    "#Define descent function for gradient descent\n",
    "def descent(theta):\n",
    "    costs = []\n",
    "    for i in range(iterations):\n",
    "        temp = []\n",
    "        \n",
    "        #Calculate thetas for each iteration\n",
    "        for j in range(n):\n",
    "            t = theta[j] - alpha * (derivative(j, theta)/m)\n",
    "            temp.append(t)\n",
    "            \n",
    "        #Find cost with thetas at each iteration   \n",
    "        theta = temp\n",
    "        c = cost(theta).tolist()\n",
    "        \n",
    "        #Condition for auto stopping the descent\n",
    "        if(costs != [] and (costs[-1] - c[0]) < 0.1):\n",
    "            costs.append(c[0])\n",
    "            print(\"Iteration \" , i)\n",
    "            print(\"Error Cost = \", c[0])\n",
    "            print()\n",
    "            break\n",
    "    \n",
    "        costs.append(c[0])\n",
    "        \n",
    "        #Print iteration and cost computed\n",
    "        if i%10 == 0:\n",
    "            print(\"Iteration \" , i)\n",
    "            print(\"Error Cost = \", c[0])\n",
    "            print()\n",
    "        \n",
    "    return costs, i\n",
    "\n",
    "#Define derivative function for calculating partial derivative of each theta\n",
    "def derivative(j, theta):\n",
    "    s = 0 \n",
    "    for k in range(m):\n",
    "        s = s + ((hyp(x.iloc[k], theta)-y.iloc[k])*x.iloc[k][j])\n",
    "    return s"
   ]
  },
  {
   "cell_type": "code",
   "execution_count": 14,
   "metadata": {
    "scrolled": true
   },
   "outputs": [
    {
     "name": "stdout",
     "output_type": "stream",
     "text": [
      "Iteration  0\n",
      "Error Cost =  1143.2665821462717\n",
      "\n",
      "Iteration  10\n",
      "Error Cost =  593.668514447923\n",
      "\n",
      "Iteration  20\n",
      "Error Cost =  323.53621172413773\n",
      "\n",
      "Iteration  30\n",
      "Error Cost =  190.47952918646533\n",
      "\n",
      "Iteration  40\n",
      "Error Cost =  124.66895091558662\n",
      "\n",
      "Iteration  50\n",
      "Error Cost =  91.85860951106261\n",
      "\n",
      "Iteration  60\n",
      "Error Cost =  75.25291054839433\n",
      "\n",
      "Iteration  70\n",
      "Error Cost =  66.61397787000429\n",
      "\n",
      "Iteration  80\n",
      "Error Cost =  61.900758923011104\n",
      "\n",
      "Iteration  90\n",
      "Error Cost =  59.130439151110814\n",
      "\n",
      "Iteration  100\n",
      "Error Cost =  57.32966994075097\n",
      "\n",
      "Iteration  110\n",
      "Error Cost =  56.02023909574886\n",
      "\n",
      "Iteration  119\n",
      "Error Cost =  55.06455515338915\n",
      "\n"
     ]
    },
    {
     "data": {
      "image/png": "[encoded data removed]",
      "text/plain": [
       "<Figure size 432x288 with 1 Axes>"
      ]
     },
     "metadata": {
      "needs_background": "light"
     },
     "output_type": "display_data"
    }
   ],
   "source": [
    "#Call gradient descent and plot graph of error costs along the iterations\n",
    "costs, iters = descent(theta)\n",
    "iters = list(range(iters+1))\n",
    "\n",
    "plt.figure()\n",
    "plt.title('Cost Function')\n",
    "plt.xlabel('Number of Iterations')\n",
    "plt.ylabel('Error Cost')\n",
    "\n",
    "plt.scatter(x= iters , y=costs, color=\"darkblue\")\n",
    "plt.show()"
   ]
  },
  {
   "cell_type": "code",
   "execution_count": 15,
   "metadata": {},
   "outputs": [
    {
     "name": "stdout",
     "output_type": "stream",
     "text": [
      "Cost by theta from normal equation =  [29.436069582958662]\n"
     ]
    }
   ],
   "source": [
    "#Calculating theta using normal equation (Bonus hehe :D)\n",
    "def calculateTheta():\n",
    "    return np.linalg.inv(np.transpose(X)@X) @ np.transpose(X) @ y\n",
    "\n",
    "def cost(theta):\n",
    "    sum = 0\n",
    "    for i in range(m):\n",
    "        sum = sum + (hyp(X.iloc[i], theta)-y.iloc[i])**2\n",
    "    return sum/(2*m)\n",
    "\n",
    "ThetaN = calculateTheta().values.tolist()\n",
    "\n",
    "#Calculate cost with theta from normal equation\n",
    "CostN = cost(ThetaN)\n",
    "\n",
    "print(\"Cost by theta from normal equation = \", CostN.tolist())"
   ]
  }
 ],
 "metadata": {
  "kernelspec": {
   "display_name": "Python 3",
   "language": "python",
   "name": "python3"
  },
  "language_info": {
   "codemirror_mode": {
    "name": "ipython",
    "version": 3
   },
   "file_extension": ".py",
   "mimetype": "text/x-python",
   "name": "python",
   "nbconvert_exporter": "python",
   "pygments_lexer": "ipython3",
   "version": "3.8.3"
  }
 },
 "nbformat": 4,
 "nbformat_minor": 4
}
